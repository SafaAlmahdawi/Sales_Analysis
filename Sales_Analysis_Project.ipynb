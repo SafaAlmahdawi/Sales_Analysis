{
  "nbformat": 4,
  "nbformat_minor": 0,
  "metadata": {
    "colab": {
      "provenance": [],
      "collapsed_sections": [
        "CbBYI-oLV2gY"
      ]
    },
    "kernelspec": {
      "name": "python3",
      "display_name": "Python 3"
    },
    "language_info": {
      "name": "python"
    }
  },
  "cells": [
    {
      "cell_type": "markdown",
      "source": [
        "# Project Statement:\n",
        "AAL is a household name in Australia, known for its clothing business since 2000. It caters to all groups— kids, women, men, and seniors. It has opened branches in many states in Australia, in metropolises and tier-1 and tier-2 cities.\n",
        "\n",
        "The business is booming, and the company is in an expansion mode. It wants to get an in-depth understanding of its sales so that it can make investment decisions. The CEO has tasked the Head of Sales and Marketing (S&M) of AAL to:\n",
        "\n",
        "1)\tDetermine the states that are generating the highest revenues and\n",
        "\n",
        "2)\tFormulate sales programs for states with lower revenues. The Head of S&M has approached you for the same.\n",
        "Analyze the company’s sales data for the fourth quarter across Australia, and state by state and help the company make data-driven decisions for the coming year.\n"
      ],
      "metadata": {
        "id": "VbtDnTOwRcB5"
      }
    },
    {
      "cell_type": "markdown",
      "source": [
        "# Step 0: Import libraries"
      ],
      "metadata": {
        "id": "CbBYI-oLV2gY"
      }
    },
    {
      "cell_type": "code",
      "execution_count": null,
      "metadata": {
        "id": "-OaODxYTdT-d"
      },
      "outputs": [],
      "source": [
        "import pandas as pd\n",
        "from sklearn.preprocessing import LabelEncoder,MinMaxScaler\n",
        "from scipy import stats\n",
        "import matplotlib.pyplot as plt\n",
        "import seaborn as sns\n",
        "import plotly.express as px\n",
        "import numpy as np"
      ]
    },
    {
      "cell_type": "markdown",
      "source": [
        "# Step 1: Load Data"
      ],
      "metadata": {
        "id": "cCsQGNRaWj4U"
      }
    },
    {
      "cell_type": "code",
      "source": [
        "df=pd.read_csv('Sales_Analysis.csv')\n",
        "df.head()"
      ],
      "metadata": {
        "id": "f4v_QRmgdr7U",
        "outputId": "8a81dae3-3e79-430a-ec52-1258c92f7711",
        "colab": {
          "base_uri": "https://localhost:8080/",
          "height": 206
        }
      },
      "execution_count": 33,
      "outputs": [
        {
          "output_type": "execute_result",
          "data": {
            "text/plain": [
              "       Date        Time State     Group  Unit  Sales\n",
              "0  1-Oct-20     Morning    WA      Kids     8  20000\n",
              "1  1-Oct-20     Morning    WA       Men     8  20000\n",
              "2  1-Oct-20     Morning    WA     Women     4  10000\n",
              "3  1-Oct-20     Morning    WA   Seniors    15  37500\n",
              "4  1-Oct-20   Afternoon    WA      Kids     3   7500"
            ],
            "text/html": [
              "\n",
              "  <div id=\"df-00b6b923-64c1-4f3e-80ad-14d0d5f414b0\" class=\"colab-df-container\">\n",
              "    <div>\n",
              "<style scoped>\n",
              "    .dataframe tbody tr th:only-of-type {\n",
              "        vertical-align: middle;\n",
              "    }\n",
              "\n",
              "    .dataframe tbody tr th {\n",
              "        vertical-align: top;\n",
              "    }\n",
              "\n",
              "    .dataframe thead th {\n",
              "        text-align: right;\n",
              "    }\n",
              "</style>\n",
              "<table border=\"1\" class=\"dataframe\">\n",
              "  <thead>\n",
              "    <tr style=\"text-align: right;\">\n",
              "      <th></th>\n",
              "      <th>Date</th>\n",
              "      <th>Time</th>\n",
              "      <th>State</th>\n",
              "      <th>Group</th>\n",
              "      <th>Unit</th>\n",
              "      <th>Sales</th>\n",
              "    </tr>\n",
              "  </thead>\n",
              "  <tbody>\n",
              "    <tr>\n",
              "      <th>0</th>\n",
              "      <td>1-Oct-20</td>\n",
              "      <td>Morning</td>\n",
              "      <td>WA</td>\n",
              "      <td>Kids</td>\n",
              "      <td>8</td>\n",
              "      <td>20000</td>\n",
              "    </tr>\n",
              "    <tr>\n",
              "      <th>1</th>\n",
              "      <td>1-Oct-20</td>\n",
              "      <td>Morning</td>\n",
              "      <td>WA</td>\n",
              "      <td>Men</td>\n",
              "      <td>8</td>\n",
              "      <td>20000</td>\n",
              "    </tr>\n",
              "    <tr>\n",
              "      <th>2</th>\n",
              "      <td>1-Oct-20</td>\n",
              "      <td>Morning</td>\n",
              "      <td>WA</td>\n",
              "      <td>Women</td>\n",
              "      <td>4</td>\n",
              "      <td>10000</td>\n",
              "    </tr>\n",
              "    <tr>\n",
              "      <th>3</th>\n",
              "      <td>1-Oct-20</td>\n",
              "      <td>Morning</td>\n",
              "      <td>WA</td>\n",
              "      <td>Seniors</td>\n",
              "      <td>15</td>\n",
              "      <td>37500</td>\n",
              "    </tr>\n",
              "    <tr>\n",
              "      <th>4</th>\n",
              "      <td>1-Oct-20</td>\n",
              "      <td>Afternoon</td>\n",
              "      <td>WA</td>\n",
              "      <td>Kids</td>\n",
              "      <td>3</td>\n",
              "      <td>7500</td>\n",
              "    </tr>\n",
              "  </tbody>\n",
              "</table>\n",
              "</div>\n",
              "    <div class=\"colab-df-buttons\">\n",
              "\n",
              "  <div class=\"colab-df-container\">\n",
              "    <button class=\"colab-df-convert\" onclick=\"convertToInteractive('df-00b6b923-64c1-4f3e-80ad-14d0d5f414b0')\"\n",
              "            title=\"Convert this dataframe to an interactive table.\"\n",
              "            style=\"display:none;\">\n",
              "\n",
              "  <svg xmlns=\"http://www.w3.org/2000/svg\" height=\"24px\" viewBox=\"0 -960 960 960\">\n",
              "    <path d=\"M120-120v-720h720v720H120Zm60-500h600v-160H180v160Zm220 220h160v-160H400v160Zm0 220h160v-160H400v160ZM180-400h160v-160H180v160Zm440 0h160v-160H620v160ZM180-180h160v-160H180v160Zm440 0h160v-160H620v160Z\"/>\n",
              "  </svg>\n",
              "    </button>\n",
              "\n",
              "  <style>\n",
              "    .colab-df-container {\n",
              "      display:flex;\n",
              "      gap: 12px;\n",
              "    }\n",
              "\n",
              "    .colab-df-convert {\n",
              "      background-color: #E8F0FE;\n",
              "      border: none;\n",
              "      border-radius: 50%;\n",
              "      cursor: pointer;\n",
              "      display: none;\n",
              "      fill: #1967D2;\n",
              "      height: 32px;\n",
              "      padding: 0 0 0 0;\n",
              "      width: 32px;\n",
              "    }\n",
              "\n",
              "    .colab-df-convert:hover {\n",
              "      background-color: #E2EBFA;\n",
              "      box-shadow: 0px 1px 2px rgba(60, 64, 67, 0.3), 0px 1px 3px 1px rgba(60, 64, 67, 0.15);\n",
              "      fill: #174EA6;\n",
              "    }\n",
              "\n",
              "    .colab-df-buttons div {\n",
              "      margin-bottom: 4px;\n",
              "    }\n",
              "\n",
              "    [theme=dark] .colab-df-convert {\n",
              "      background-color: #3B4455;\n",
              "      fill: #D2E3FC;\n",
              "    }\n",
              "\n",
              "    [theme=dark] .colab-df-convert:hover {\n",
              "      background-color: #434B5C;\n",
              "      box-shadow: 0px 1px 3px 1px rgba(0, 0, 0, 0.15);\n",
              "      filter: drop-shadow(0px 1px 2px rgba(0, 0, 0, 0.3));\n",
              "      fill: #FFFFFF;\n",
              "    }\n",
              "  </style>\n",
              "\n",
              "    <script>\n",
              "      const buttonEl =\n",
              "        document.querySelector('#df-00b6b923-64c1-4f3e-80ad-14d0d5f414b0 button.colab-df-convert');\n",
              "      buttonEl.style.display =\n",
              "        google.colab.kernel.accessAllowed ? 'block' : 'none';\n",
              "\n",
              "      async function convertToInteractive(key) {\n",
              "        const element = document.querySelector('#df-00b6b923-64c1-4f3e-80ad-14d0d5f414b0');\n",
              "        const dataTable =\n",
              "          await google.colab.kernel.invokeFunction('convertToInteractive',\n",
              "                                                    [key], {});\n",
              "        if (!dataTable) return;\n",
              "\n",
              "        const docLinkHtml = 'Like what you see? Visit the ' +\n",
              "          '<a target=\"_blank\" href=https://colab.research.google.com/notebooks/data_table.ipynb>data table notebook</a>'\n",
              "          + ' to learn more about interactive tables.';\n",
              "        element.innerHTML = '';\n",
              "        dataTable['output_type'] = 'display_data';\n",
              "        await google.colab.output.renderOutput(dataTable, element);\n",
              "        const docLink = document.createElement('div');\n",
              "        docLink.innerHTML = docLinkHtml;\n",
              "        element.appendChild(docLink);\n",
              "      }\n",
              "    </script>\n",
              "  </div>\n",
              "\n",
              "\n",
              "<div id=\"df-e63404a4-6f7e-4f2f-989b-d0467ed70215\">\n",
              "  <button class=\"colab-df-quickchart\" onclick=\"quickchart('df-e63404a4-6f7e-4f2f-989b-d0467ed70215')\"\n",
              "            title=\"Suggest charts.\"\n",
              "            style=\"display:none;\">\n",
              "\n",
              "<svg xmlns=\"http://www.w3.org/2000/svg\" height=\"24px\"viewBox=\"0 0 24 24\"\n",
              "     width=\"24px\">\n",
              "    <g>\n",
              "        <path d=\"M19 3H5c-1.1 0-2 .9-2 2v14c0 1.1.9 2 2 2h14c1.1 0 2-.9 2-2V5c0-1.1-.9-2-2-2zM9 17H7v-7h2v7zm4 0h-2V7h2v10zm4 0h-2v-4h2v4z\"/>\n",
              "    </g>\n",
              "</svg>\n",
              "  </button>\n",
              "\n",
              "<style>\n",
              "  .colab-df-quickchart {\n",
              "      --bg-color: #E8F0FE;\n",
              "      --fill-color: #1967D2;\n",
              "      --hover-bg-color: #E2EBFA;\n",
              "      --hover-fill-color: #174EA6;\n",
              "      --disabled-fill-color: #AAA;\n",
              "      --disabled-bg-color: #DDD;\n",
              "  }\n",
              "\n",
              "  [theme=dark] .colab-df-quickchart {\n",
              "      --bg-color: #3B4455;\n",
              "      --fill-color: #D2E3FC;\n",
              "      --hover-bg-color: #434B5C;\n",
              "      --hover-fill-color: #FFFFFF;\n",
              "      --disabled-bg-color: #3B4455;\n",
              "      --disabled-fill-color: #666;\n",
              "  }\n",
              "\n",
              "  .colab-df-quickchart {\n",
              "    background-color: var(--bg-color);\n",
              "    border: none;\n",
              "    border-radius: 50%;\n",
              "    cursor: pointer;\n",
              "    display: none;\n",
              "    fill: var(--fill-color);\n",
              "    height: 32px;\n",
              "    padding: 0;\n",
              "    width: 32px;\n",
              "  }\n",
              "\n",
              "  .colab-df-quickchart:hover {\n",
              "    background-color: var(--hover-bg-color);\n",
              "    box-shadow: 0 1px 2px rgba(60, 64, 67, 0.3), 0 1px 3px 1px rgba(60, 64, 67, 0.15);\n",
              "    fill: var(--button-hover-fill-color);\n",
              "  }\n",
              "\n",
              "  .colab-df-quickchart-complete:disabled,\n",
              "  .colab-df-quickchart-complete:disabled:hover {\n",
              "    background-color: var(--disabled-bg-color);\n",
              "    fill: var(--disabled-fill-color);\n",
              "    box-shadow: none;\n",
              "  }\n",
              "\n",
              "  .colab-df-spinner {\n",
              "    border: 2px solid var(--fill-color);\n",
              "    border-color: transparent;\n",
              "    border-bottom-color: var(--fill-color);\n",
              "    animation:\n",
              "      spin 1s steps(1) infinite;\n",
              "  }\n",
              "\n",
              "  @keyframes spin {\n",
              "    0% {\n",
              "      border-color: transparent;\n",
              "      border-bottom-color: var(--fill-color);\n",
              "      border-left-color: var(--fill-color);\n",
              "    }\n",
              "    20% {\n",
              "      border-color: transparent;\n",
              "      border-left-color: var(--fill-color);\n",
              "      border-top-color: var(--fill-color);\n",
              "    }\n",
              "    30% {\n",
              "      border-color: transparent;\n",
              "      border-left-color: var(--fill-color);\n",
              "      border-top-color: var(--fill-color);\n",
              "      border-right-color: var(--fill-color);\n",
              "    }\n",
              "    40% {\n",
              "      border-color: transparent;\n",
              "      border-right-color: var(--fill-color);\n",
              "      border-top-color: var(--fill-color);\n",
              "    }\n",
              "    60% {\n",
              "      border-color: transparent;\n",
              "      border-right-color: var(--fill-color);\n",
              "    }\n",
              "    80% {\n",
              "      border-color: transparent;\n",
              "      border-right-color: var(--fill-color);\n",
              "      border-bottom-color: var(--fill-color);\n",
              "    }\n",
              "    90% {\n",
              "      border-color: transparent;\n",
              "      border-bottom-color: var(--fill-color);\n",
              "    }\n",
              "  }\n",
              "</style>\n",
              "\n",
              "  <script>\n",
              "    async function quickchart(key) {\n",
              "      const quickchartButtonEl =\n",
              "        document.querySelector('#' + key + ' button');\n",
              "      quickchartButtonEl.disabled = true;  // To prevent multiple clicks.\n",
              "      quickchartButtonEl.classList.add('colab-df-spinner');\n",
              "      try {\n",
              "        const charts = await google.colab.kernel.invokeFunction(\n",
              "            'suggestCharts', [key], {});\n",
              "      } catch (error) {\n",
              "        console.error('Error during call to suggestCharts:', error);\n",
              "      }\n",
              "      quickchartButtonEl.classList.remove('colab-df-spinner');\n",
              "      quickchartButtonEl.classList.add('colab-df-quickchart-complete');\n",
              "    }\n",
              "    (() => {\n",
              "      let quickchartButtonEl =\n",
              "        document.querySelector('#df-e63404a4-6f7e-4f2f-989b-d0467ed70215 button');\n",
              "      quickchartButtonEl.style.display =\n",
              "        google.colab.kernel.accessAllowed ? 'block' : 'none';\n",
              "    })();\n",
              "  </script>\n",
              "</div>\n",
              "    </div>\n",
              "  </div>\n"
            ]
          },
          "metadata": {},
          "execution_count": 33
        }
      ]
    },
    {
      "cell_type": "markdown",
      "source": [
        "# Step 2: Data Cleaning + Preprocessing"
      ],
      "metadata": {
        "id": "rsYO4Re5XHnM"
      }
    },
    {
      "cell_type": "code",
      "source": [
        "#Rename Group and Sales columns\n",
        "new_column_names = {\n",
        "    'Group': 'Customer_Group',\n",
        "    'Sales': 'Sales_Amount',\n",
        "}\n",
        "df.rename(columns=new_column_names, inplace=True)\n",
        "\n",
        "#Reame State values\n",
        "state_mapping = {\n",
        "    'WA': 'Western Australia',\n",
        "    'NT': 'Northern Territory',\n",
        "    'SA': 'South Australia',\n",
        "    'VIC': 'Victoria',\n",
        "    'QLD': 'Queensland',\n",
        "    'NSW': 'New South Wales',\n",
        "    'TAS': 'Tasmania'\n",
        "}\n",
        "df['State'] = df['State'].apply(lambda x: state_mapping.get(x.strip(), x))\n",
        "df.head()\n",
        "\n",
        "#Format the data\n",
        "df['Time'] = df['Time'].str.title()\n",
        "df['Customer_Group'] = df['Customer_Group'].str.title()\n",
        "df['State'] = df['State'].str.upper()\n",
        "\n",
        "#Data type check\n",
        "df.info()\n",
        "#should add date transfer code here!\n",
        "\n",
        "#Encoding\n",
        "columns=['Time','State','Customer_Group']\n",
        "label_encoder = LabelEncoder()\n",
        "for col in columns:\n",
        "  df[f'Encoding {col}']= label_encoder.fit_transform(df[col])\n",
        "\n",
        "#Normalization\n",
        "scaler = MinMaxScaler()\n",
        "#df['Sales_Amount']= scaler.fit_transform(df[['Sales_Amount']])"
      ],
      "metadata": {
        "id": "UIZDcgn-ePyx",
        "colab": {
          "base_uri": "https://localhost:8080/"
        },
        "outputId": "c19422d1-6f30-4d3b-abcc-37a908011fb0"
      },
      "execution_count": 34,
      "outputs": [
        {
          "output_type": "stream",
          "name": "stdout",
          "text": [
            "<class 'pandas.core.frame.DataFrame'>\n",
            "RangeIndex: 7560 entries, 0 to 7559\n",
            "Data columns (total 6 columns):\n",
            " #   Column          Non-Null Count  Dtype \n",
            "---  ------          --------------  ----- \n",
            " 0   Date            7560 non-null   object\n",
            " 1   Time            7560 non-null   object\n",
            " 2   State           7560 non-null   object\n",
            " 3   Customer_Group  7560 non-null   object\n",
            " 4   Unit            7560 non-null   int64 \n",
            " 5   Sales_Amount    7560 non-null   int64 \n",
            "dtypes: int64(2), object(4)\n",
            "memory usage: 354.5+ KB\n"
          ]
        }
      ]
    },
    {
      "cell_type": "code",
      "source": [
        "#To transfor  date as time\n",
        "df['Date']=pd.to_datetime(df['Date'])\n",
        "df.set_index('Date', inplace=True)\n"
      ],
      "metadata": {
        "id": "PPQI80mFj5Qi"
      },
      "execution_count": 39,
      "outputs": []
    },
    {
      "cell_type": "code",
      "source": [
        "#check for duplicates rows\n",
        "print(\"Number of duplicated rows:\",df.duplicated().sum())\n",
        "\n",
        "#Check for missing data\n",
        "print(\"\\nMissing Data: \",df.isna().sum().sum())\n",
        "\n",
        "#Check for non-missing data\n",
        "print(\"\\nNon-Missing Data:\")\n",
        "print(df.notna().sum())\n",
        "\n",
        "#Check for negative values in unit and sales\n",
        "print(\"\\nNumber of rows with negative values in 'Unit' or 'Sales': \",len(df[(df['Unit'] < 0) | (df['Sales_Amount'] < 0)]))\n",
        "\n",
        "# Check unique values in categorical columns looking for invalid values\n",
        "unique_times = df['Time'].unique()\n",
        "unique_states = df['State'].unique()\n",
        "unique_groups = df['Customer_Group'].unique()\n",
        "\n",
        "print(\"\\nunique values in categorical columns:\")\n",
        "print(\"Unique times:\", df['Time'].unique())\n",
        "print(\"Unique states:\", df['State'].unique())\n",
        "print(\"Unique groups:\", df['Customer_Group'].unique())\n",
        "print()\n",
        "\n",
        "#Groupby state\n",
        "sales_per_state = df.groupby('State')['Sales_Amount'].sum()\n",
        "sales_per_state"
      ],
      "metadata": {
        "id": "tjcjp6kdeee4"
      },
      "execution_count": null,
      "outputs": []
    },
    {
      "cell_type": "code",
      "source": [
        "df.head()\n"
      ],
      "metadata": {
        "id": "7TT49_Y9eeM3"
      },
      "execution_count": null,
      "outputs": []
    },
    {
      "cell_type": "markdown",
      "source": [
        "# Step 3: Data Analysis"
      ],
      "metadata": {
        "id": "AeBiSxb6UiVd"
      }
    },
    {
      "cell_type": "code",
      "source": [
        "df.head()"
      ],
      "metadata": {
        "id": "uQZ-ayTNa5Bi"
      },
      "execution_count": null,
      "outputs": []
    },
    {
      "cell_type": "code",
      "source": [
        "from matplotlib.colors import ListedColormap\n",
        "import plotly.graph_objects as go\n",
        "import plotly.express as px\n",
        "\n",
        "# Sample data\n",
        "exclude_columns = ['Encoding Time', 'Encoding State','Encoding Customer_Group']\n",
        "numerical_columns = df.select_dtypes(include='number').drop(exclude_columns, axis=1)\n",
        "correlation_matrix = numerical_columns.corr()\n",
        "\n",
        "# Define pastel-like colors\n",
        "pastel_colors = ['#AEC6CF', '#BFDFF1', '#AFDFF3', '#B5EAD7', '#B5EAD7']\n",
        "\n",
        "# Create an interactive heatmap using Plotly\n",
        "fig_heatmap = go.Figure(go.Heatmap(\n",
        "    z=correlation_matrix.values,\n",
        "    x=correlation_matrix.columns,\n",
        "    y=correlation_matrix.columns,\n",
        "    colorscale=pastel_colors,\n",
        "    colorbar=dict(title='Correlation'),\n",
        "))\n",
        "\n",
        "fig_heatmap.update_layout(\n",
        "    title='Correlation Heatmap',\n",
        "    xaxis=dict(ticks='', side='top'),\n",
        "    yaxis=dict(ticks=''),\n",
        ")\n",
        "\n",
        "fig_heatmap.show()\n"
      ],
      "metadata": {
        "id": "oOElo75EhTzq"
      },
      "execution_count": null,
      "outputs": []
    },
    {
      "cell_type": "code",
      "source": [
        "#Descriptive Analysis for Sales\n",
        "sales_stat = df['Sales_Amount'].describe()\n",
        "sales_stat['mode'] = df['Sales_Amount'].mode()\n",
        "sales_stat['median'] = df['Sales_Amount'].median()\n",
        "\n",
        "fig = px.box(df, y='Sales_Amount', title='Sales Distribution Analysis',\n",
        "             labels={'Sales_Amount': 'Sales Amount'},\n",
        "             color_discrete_sequence=px.colors.qualitative.Pastel)\n",
        "fig.show()"
      ],
      "metadata": {
        "id": "NYBooJKFcpJw"
      },
      "execution_count": null,
      "outputs": []
    },
    {
      "cell_type": "code",
      "source": [
        "#Descriptive Analysis for Unit\n",
        "sales_stat=df['Unit'].describe()\n",
        "sales_stat['mode'] = df['Unit'].mode()\n",
        "sales_stat['median'] = df['Unit'].median()\n",
        "\n",
        "fig = px.box(df, y='Unit', title='Unit Distribution Analysis',\n",
        "             labels={'Unit': 'Unit'},\n",
        "             color_discrete_sequence=px.colors.qualitative.Pastel)\n",
        "fig.show()"
      ],
      "metadata": {
        "id": "sKAQ09Mnd8U4"
      },
      "execution_count": null,
      "outputs": []
    },
    {
      "cell_type": "code",
      "source": [
        "# Group with the highest sales\n",
        "group_sales_summary = df.groupby('Customer_Group')['Sales_Amount'].sum()\n",
        "group_highest_sales = group_sales_summary.idxmax()\n",
        "group_highest_sales_value = round(group_sales_summary.max(),2)\n",
        "\n",
        "group_lowest_sales = group_sales_summary.idxmin()\n",
        "group_lowest_sales_value = round(group_sales_summary.min(),2)\n",
        "\n",
        "# State with the highest sales\n",
        "state_sales_summary = df.groupby('State')['Sales_Amount'].sum()\n",
        "state_highest_sales = state_sales_summary.idxmax()\n",
        "state_highest_sales_value = round(state_sales_summary.max(),2)\n",
        "\n",
        "state_lowest_sales = state_sales_summary.idxmin()\n",
        "state_lowest_sales_value = round(state_sales_summary.min(),2)\n",
        "\n",
        "print(f\"Group generating the highest sales: {group_highest_sales} with sales amount of {group_highest_sales_value}\")\n",
        "print(f\"Group generating the lowest sales: {group_lowest_sales} with sales amount of {group_lowest_sales_value}\")\n",
        "print(f\"\\nState generating the highest sales: {state_highest_sales} with sales amount of {state_highest_sales_value}\")\n",
        "print(f\"State generating the lowest sales: {state_lowest_sales} with sales amount of {state_lowest_sales_value}\")\n"
      ],
      "metadata": {
        "id": "RAoXcO2k1Xo8"
      },
      "execution_count": null,
      "outputs": []
    },
    {
      "cell_type": "code",
      "source": [
        "# Bar Plot for Group Sales\n",
        "fig_group_sales = px.bar(group_sales_summary.reset_index(), x='Customer_Group', y='Sales_Amount',\n",
        "                          title='Total Sales per Customer Group',\n",
        "                          labels={'Customer_Group': 'Customer Group', 'Sales_Amount': 'Total Sales'},\n",
        "                          color_discrete_sequence=px.colors.qualitative.Pastel)\n",
        "fig_group_sales.update_layout(width=800, height=400)\n",
        "fig_group_sales.show()\n",
        "\n",
        "# Bar Plot for State Sales\n",
        "fig_state_sales = px.bar(state_sales_summary.reset_index(), x='State', y='Sales_Amount',\n",
        "                          title='Total Sales per State',\n",
        "                          labels={'State': 'State', 'Sales_Amount': 'Total Sales'},\n",
        "                          color_discrete_sequence=px.colors.qualitative.Pastel)\n",
        "fig_state_sales.update_layout(width=800, height=400)\n",
        "fig_state_sales.show()"
      ],
      "metadata": {
        "id": "b3d-nmqEfNmq"
      },
      "execution_count": null,
      "outputs": []
    },
    {
      "cell_type": "code",
      "source": [
        "##check for Outliers\n",
        "z_scores = stats.zscore(df['Sales_Amount'])\n",
        "outliers = (z_scores > 3) | (z_scores < -3)\n",
        "df = df[~outliers]\n",
        "print(\"Number of Outliers:\", outliers.sum())"
      ],
      "metadata": {
        "id": "pTkWBz4cl_cT"
      },
      "execution_count": null,
      "outputs": []
    },
    {
      "cell_type": "code",
      "source": [
        "# Create the box plot using Plotly Express\n",
        "fig = px.box(df, y='Sales_Amount', title='Sales Distribution Analysis')\n",
        "\n",
        "# Show the chart\n",
        "fig.show()"
      ],
      "metadata": {
        "id": "L4mo4DCpEmzh"
      },
      "execution_count": null,
      "outputs": []
    },
    {
      "cell_type": "code",
      "source": [
        "pastel_colors = ['#AEC6CF', '#BFDFF1', '#AFDFF3', '#B5EAD7', '#B5EAD7']\n",
        "\n",
        "# Resample data for weekly, monthly, and quarterly means\n",
        "weekly_sales = df['Sales_Amount'].resample('W').mean()\n",
        "monthly_sales = df['Sales_Amount'].resample('M').mean()\n",
        "quarterly_sales = df['Sales_Amount'].resample('Q').mean()\n",
        "\n",
        "# Create subplots for each time period\n",
        "fig, axes = plt.subplots(1, 3, figsize=(18, 5))  # Adjust the figure size as needed\n",
        "\n",
        "# Plot weekly data with pastel colors\n",
        "sns.barplot(x=weekly_sales.index, y=weekly_sales, ax=axes[0], palette=pastel_colors)\n",
        "axes[0].set_title('Weekly Sales')\n",
        "axes[0].set_xlabel('Week')\n",
        "axes[0].set_ylabel('Mean Sales Amount')\n",
        "axes[0].tick_params(axis='x', labelrotation=45)  # Rotate x-axis labels for better visibility\n",
        "\n",
        "# Plot monthly data with pastel colors\n",
        "sns.barplot(x=monthly_sales.index, y=monthly_sales, ax=axes[1], palette=pastel_colors)\n",
        "axes[1].set_title('Monthly Sales')\n",
        "axes[1].set_xlabel('Month')\n",
        "axes[1].set_ylabel('Mean Sales Amount')\n",
        "axes[1].tick_params(axis='x', labelrotation=45)  # Rotate x-axis labels for better visibility\n",
        "\n",
        "# Plot quarterly data with pastel colors\n",
        "sns.barplot(x=quarterly_sales.index, y=quarterly_sales, ax=axes[2], palette=pastel_colors)\n",
        "axes[2].set_title('Quarterly Sales')\n",
        "axes[2].set_xlabel('Quarter')\n",
        "axes[2].set_ylabel('Mean Sales Amount')\n",
        "axes[2].tick_params(axis='x', labelrotation=45)  # Rotate x-axis labels for better visibility\n",
        "\n",
        "plt.tight_layout()  # Ensure proper spacing between subplots\n",
        "plt.show()\n"
      ],
      "metadata": {
        "id": "omc6RYBikXtn",
        "colab": {
          "base_uri": "https://localhost:8080/",
          "height": 308
        },
        "outputId": "209602f3-9c3e-48ff-c10b-d79cf5d1ac25"
      },
      "execution_count": 40,
      "outputs": [
        {
          "output_type": "display_data",
          "data": {
            "text/plain": [
              "<Figure size 1800x500 with 3 Axes>"
            ],
            "image/png": "[encoded data removed]"
          },
          "metadata": {}
        }
      ]
    },
    {
      "cell_type": "code",
      "source": [
        "import plotly.subplots as sp\n",
        "import plotly.graph_objects as go\n",
        "\n",
        "# Resample data for weekly, monthly, and quarterly means\n",
        "weekly_sales = df['Sales_Amount'].resample('W').mean()\n",
        "monthly_sales = df['Sales_Amount'].resample('M').mean()\n",
        "quarterly_sales = df['Sales_Amount'].resample('Q').mean()\n",
        "\n",
        "# Create subplots for each time period\n",
        "fig = sp.make_subplots(rows=1, cols=3, subplot_titles=('Weekly Sales', 'Monthly Sales', 'Quarterly Sales'), column_widths=[0.4, 0.4, 0.2])\n",
        "\n",
        "# Plot weekly data\n",
        "fig.add_trace(go.Bar(x=weekly_sales.index, y=weekly_sales, marker_color='#AEC6CF'), row=1, col=1)\n",
        "fig.update_xaxes(title_text='Week', row=1, col=1)\n",
        "fig.update_yaxes(title_text='Mean Sales Amount', row=1, col=1)\n",
        "\n",
        "# Plot monthly data\n",
        "fig.add_trace(go.Bar(x=monthly_sales.index, y=monthly_sales, marker_color='#BFDFF1'), row=1, col=2)\n",
        "fig.update_xaxes(title_text='Month', row=1, col=2)\n",
        "fig.update_yaxes(title_text='Mean Sales Amount', row=1, col=2)\n",
        "\n",
        "# Plot quarterly data\n",
        "fig.add_trace(go.Bar(x=quarterly_sales.index, y=quarterly_sales, marker_color='#AFDFF3'), row=1, col=3)\n",
        "fig.update_xaxes(title_text='Quarter', row=1, col=3)\n",
        "fig.update_yaxes(title_text='Mean Sales Amount', row=1, col=3)\n",
        "\n",
        "fig.update_layout(height=400, width=1200, showlegend=False)\n",
        "\n",
        "\n",
        "\n",
        "fig.show()"
      ],
      "metadata": {
        "colab": {
          "base_uri": "https://localhost:8080/",
          "height": 437
        },
        "id": "z0G1Kk831lPe",
        "outputId": "355d0395-8c19-4b70-b0f2-1ba167618a6b"
      },
      "execution_count": 45,
      "outputs": [
        {
          "output_type": "display_data",
          "data": {
            "text/html": [
              "<html>\n",
              "<head><meta charset=\"utf-8\" /></head>\n",
              "<body>\n",
              "    <div>            <script src=\"https://cdnjs.cloudflare.com/ajax/libs/mathjax/2.7.5/MathJax.js?config=TeX-AMS-MML_SVG\"></script><script type=\"text/javascript\">if (window.MathJax && window.MathJax.Hub && window.MathJax.Hub.Config) {window.MathJax.Hub.Config({SVG: {font: \"STIX-Web\"}});}</script>                <script type=\"text/javascript\">window.PlotlyConfig = {MathJaxConfig: 'local'};</script>\n",
              "        <script charset=\"utf-8\" src=\"https://cdn.plot.ly/plotly-2.24.1.min.js\"></script>                <div id=\"05491eae-97b4-4d8a-90e0-acb4e9d8f235\" class=\"plotly-graph-div\" style=\"height:400px; width:1200px;\"></div>            <script type=\"text/javascript\">                                    window.PLOTLYENV=window.PLOTLYENV || {};                                    if (document.getElementById(\"05491eae-97b4-4d8a-90e0-acb4e9d8f235\")) {                    Plotly.newPlot(                        \"05491eae-97b4-4d8a-90e0-acb4e9d8f235\",                        [{\"marker\":{\"color\":\"#AEC6CF\"},\"x\":[\"2020-10-04T00:00:00\",\"2020-10-11T00:00:00\",\"2020-10-18T00:00:00\",\"2020-10-25T00:00:00\",\"2020-11-01T00:00:00\",\"2020-11-08T00:00:00\",\"2020-11-15T00:00:00\",\"2020-11-22T00:00:00\",\"2020-11-29T00:00:00\",\"2020-12-06T00:00:00\",\"2020-12-13T00:00:00\",\"2020-12-20T00:00:00\",\"2020-12-27T00:00:00\",\"2021-01-03T00:00:00\"],\"y\":[44776.78571428572,45922.619047619046,45306.12244897959,45603.74149659864,43268.84920634921,35484.69387755102,36007.65306122449,35905.61224489796,36526.360544217685,50378.401360544216,53613.945578231294,53835.034013605444,54030.61224489796,54732.142857142855],\"type\":\"bar\",\"xaxis\":\"x\",\"yaxis\":\"y\"},{\"marker\":{\"color\":\"#BFDFF1\"},\"x\":[\"2020-10-31T00:00:00\",\"2020-11-30T00:00:00\",\"2020-12-31T00:00:00\"],\"y\":[45353.1746031746,35985.119047619046,53702.380952380954],\"type\":\"bar\",\"xaxis\":\"x2\",\"yaxis\":\"y2\"},{\"marker\":{\"color\":\"#AFDFF3\"},\"x\":[\"2020-12-31T00:00:00\"],\"y\":[45013.5582010582],\"type\":\"bar\",\"xaxis\":\"x3\",\"yaxis\":\"y3\"}],                        {\"template\":{\"data\":{\"histogram2dcontour\":[{\"type\":\"histogram2dcontour\",\"colorbar\":{\"outlinewidth\":0,\"ticks\":\"\"},\"colorscale\":[[0.0,\"#0d0887\"],[0.1111111111111111,\"#46039f\"],[0.2222222222222222,\"#7201a8\"],[0.3333333333333333,\"#9c179e\"],[0.4444444444444444,\"#bd3786\"],[0.5555555555555556,\"#d8576b\"],[0.6666666666666666,\"#ed7953\"],[0.7777777777777778,\"#fb9f3a\"],[0.8888888888888888,\"#fdca26\"],[1.0,\"#f0f921\"]]}],\"choropleth\":[{\"type\":\"choropleth\",\"colorbar\":{\"outlinewidth\":0,\"ticks\":\"\"}}],\"histogram2d\":[{\"type\":\"histogram2d\",\"colorbar\":{\"outlinewidth\":0,\"ticks\":\"\"},\"colorscale\":[[0.0,\"#0d0887\"],[0.1111111111111111,\"#46039f\"],[0.2222222222222222,\"#7201a8\"],[0.3333333333333333,\"#9c179e\"],[0.4444444444444444,\"#bd3786\"],[0.5555555555555556,\"#d8576b\"],[0.6666666666666666,\"#ed7953\"],[0.7777777777777778,\"#fb9f3a\"],[0.8888888888888888,\"#fdca26\"],[1.0,\"#f0f921\"]]}],\"heatmap\":[{\"type\":\"heatmap\",\"colorbar\":{\"outlinewidth\":0,\"ticks\":\"\"},\"colorscale\":[[0.0,\"#0d0887\"],[0.1111111111111111,\"#46039f\"],[0.2222222222222222,\"#7201a8\"],[0.3333333333333333,\"#9c179e\"],[0.4444444444444444,\"#bd3786\"],[0.5555555555555556,\"#d8576b\"],[0.6666666666666666,\"#ed7953\"],[0.7777777777777778,\"#fb9f3a\"],[0.8888888888888888,\"#fdca26\"],[1.0,\"#f0f921\"]]}],\"heatmapgl\":[{\"type\":\"heatmapgl\",\"colorbar\":{\"outlinewidth\":0,\"ticks\":\"\"},\"colorscale\":[[0.0,\"#0d0887\"],[0.1111111111111111,\"#46039f\"],[0.2222222222222222,\"#7201a8\"],[0.3333333333333333,\"#9c179e\"],[0.4444444444444444,\"#bd3786\"],[0.5555555555555556,\"#d8576b\"],[0.6666666666666666,\"#ed7953\"],[0.7777777777777778,\"#fb9f3a\"],[0.8888888888888888,\"#fdca26\"],[1.0,\"#f0f921\"]]}],\"contourcarpet\":[{\"type\":\"contourcarpet\",\"colorbar\":{\"outlinewidth\":0,\"ticks\":\"\"}}],\"contour\":[{\"type\":\"contour\",\"colorbar\":{\"outlinewidth\":0,\"ticks\":\"\"},\"colorscale\":[[0.0,\"#0d0887\"],[0.1111111111111111,\"#46039f\"],[0.2222222222222222,\"#7201a8\"],[0.3333333333333333,\"#9c179e\"],[0.4444444444444444,\"#bd3786\"],[0.5555555555555556,\"#d8576b\"],[0.6666666666666666,\"#ed7953\"],[0.7777777777777778,\"#fb9f3a\"],[0.8888888888888888,\"#fdca26\"],[1.0,\"#f0f921\"]]}],\"surface\":[{\"type\":\"surface\",\"colorbar\":{\"outlinewidth\":0,\"ticks\":\"\"},\"colorscale\":[[0.0,\"#0d0887\"],[0.1111111111111111,\"#46039f\"],[0.2222222222222222,\"#7201a8\"],[0.3333333333333333,\"#9c179e\"],[0.4444444444444444,\"#bd3786\"],[0.5555555555555556,\"#d8576b\"],[0.6666666666666666,\"#ed7953\"],[0.7777777777777778,\"#fb9f3a\"],[0.8888888888888888,\"#fdca26\"],[1.0,\"#f0f921\"]]}],\"mesh3d\":[{\"type\":\"mesh3d\",\"colorbar\":{\"outlinewidth\":0,\"ticks\":\"\"}}],\"scatter\":[{\"fillpattern\":{\"fillmode\":\"overlay\",\"size\":10,\"solidity\":0.2},\"type\":\"scatter\"}],\"parcoords\":[{\"type\":\"parcoords\",\"line\":{\"colorbar\":{\"outlinewidth\":0,\"ticks\":\"\"}}}],\"scatterpolargl\":[{\"type\":\"scatterpolargl\",\"marker\":{\"colorbar\":{\"outlinewidth\":0,\"ticks\":\"\"}}}],\"bar\":[{\"error_x\":{\"color\":\"#2a3f5f\"},\"error_y\":{\"color\":\"#2a3f5f\"},\"marker\":{\"line\":{\"color\":\"#E5ECF6\",\"width\":0.5},\"pattern\":{\"fillmode\":\"overlay\",\"size\":10,\"solidity\":0.2}},\"type\":\"bar\"}],\"scattergeo\":[{\"type\":\"scattergeo\",\"marker\":{\"colorbar\":{\"outlinewidth\":0,\"ticks\":\"\"}}}],\"scatterpolar\":[{\"type\":\"scatterpolar\",\"marker\":{\"colorbar\":{\"outlinewidth\":0,\"ticks\":\"\"}}}],\"histogram\":[{\"marker\":{\"pattern\":{\"fillmode\":\"overlay\",\"size\":10,\"solidity\":0.2}},\"type\":\"histogram\"}],\"scattergl\":[{\"type\":\"scattergl\",\"marker\":{\"colorbar\":{\"outlinewidth\":0,\"ticks\":\"\"}}}],\"scatter3d\":[{\"type\":\"scatter3d\",\"line\":{\"colorbar\":{\"outlinewidth\":0,\"ticks\":\"\"}},\"marker\":{\"colorbar\":{\"outlinewidth\":0,\"ticks\":\"\"}}}],\"scattermapbox\":[{\"type\":\"scattermapbox\",\"marker\":{\"colorbar\":{\"outlinewidth\":0,\"ticks\":\"\"}}}],\"scatterternary\":[{\"type\":\"scatterternary\",\"marker\":{\"colorbar\":{\"outlinewidth\":0,\"ticks\":\"\"}}}],\"scattercarpet\":[{\"type\":\"scattercarpet\",\"marker\":{\"colorbar\":{\"outlinewidth\":0,\"ticks\":\"\"}}}],\"carpet\":[{\"aaxis\":{\"endlinecolor\":\"#2a3f5f\",\"gridcolor\":\"white\",\"linecolor\":\"white\",\"minorgridcolor\":\"white\",\"startlinecolor\":\"#2a3f5f\"},\"baxis\":{\"endlinecolor\":\"#2a3f5f\",\"gridcolor\":\"white\",\"linecolor\":\"white\",\"minorgridcolor\":\"white\",\"startlinecolor\":\"#2a3f5f\"},\"type\":\"carpet\"}],\"table\":[{\"cells\":{\"fill\":{\"color\":\"#EBF0F8\"},\"line\":{\"color\":\"white\"}},\"header\":{\"fill\":{\"color\":\"#C8D4E3\"},\"line\":{\"color\":\"white\"}},\"type\":\"table\"}],\"barpolar\":[{\"marker\":{\"line\":{\"color\":\"#E5ECF6\",\"width\":0.5},\"pattern\":{\"fillmode\":\"overlay\",\"size\":10,\"solidity\":0.2}},\"type\":\"barpolar\"}],\"pie\":[{\"automargin\":true,\"type\":\"pie\"}]},\"layout\":{\"autotypenumbers\":\"strict\",\"colorway\":[\"#636efa\",\"#EF553B\",\"#00cc96\",\"#ab63fa\",\"#FFA15A\",\"#19d3f3\",\"#FF6692\",\"#B6E880\",\"#FF97FF\",\"#FECB52\"],\"font\":{\"color\":\"#2a3f5f\"},\"hovermode\":\"closest\",\"hoverlabel\":{\"align\":\"left\"},\"paper_bgcolor\":\"white\",\"plot_bgcolor\":\"#E5ECF6\",\"polar\":{\"bgcolor\":\"#E5ECF6\",\"angularaxis\":{\"gridcolor\":\"white\",\"linecolor\":\"white\",\"ticks\":\"\"},\"radialaxis\":{\"gridcolor\":\"white\",\"linecolor\":\"white\",\"ticks\":\"\"}},\"ternary\":{\"bgcolor\":\"#E5ECF6\",\"aaxis\":{\"gridcolor\":\"white\",\"linecolor\":\"white\",\"ticks\":\"\"},\"baxis\":{\"gridcolor\":\"white\",\"linecolor\":\"white\",\"ticks\":\"\"},\"caxis\":{\"gridcolor\":\"white\",\"linecolor\":\"white\",\"ticks\":\"\"}},\"coloraxis\":{\"colorbar\":{\"outlinewidth\":0,\"ticks\":\"\"}},\"colorscale\":{\"sequential\":[[0.0,\"#0d0887\"],[0.1111111111111111,\"#46039f\"],[0.2222222222222222,\"#7201a8\"],[0.3333333333333333,\"#9c179e\"],[0.4444444444444444,\"#bd3786\"],[0.5555555555555556,\"#d8576b\"],[0.6666666666666666,\"#ed7953\"],[0.7777777777777778,\"#fb9f3a\"],[0.8888888888888888,\"#fdca26\"],[1.0,\"#f0f921\"]],\"sequentialminus\":[[0.0,\"#0d0887\"],[0.1111111111111111,\"#46039f\"],[0.2222222222222222,\"#7201a8\"],[0.3333333333333333,\"#9c179e\"],[0.4444444444444444,\"#bd3786\"],[0.5555555555555556,\"#d8576b\"],[0.6666666666666666,\"#ed7953\"],[0.7777777777777778,\"#fb9f3a\"],[0.8888888888888888,\"#fdca26\"],[1.0,\"#f0f921\"]],\"diverging\":[[0,\"#8e0152\"],[0.1,\"#c51b7d\"],[0.2,\"#de77ae\"],[0.3,\"#f1b6da\"],[0.4,\"#fde0ef\"],[0.5,\"#f7f7f7\"],[0.6,\"#e6f5d0\"],[0.7,\"#b8e186\"],[0.8,\"#7fbc41\"],[0.9,\"#4d9221\"],[1,\"#276419\"]]},\"xaxis\":{\"gridcolor\":\"white\",\"linecolor\":\"white\",\"ticks\":\"\",\"title\":{\"standoff\":15},\"zerolinecolor\":\"white\",\"automargin\":true,\"zerolinewidth\":2},\"yaxis\":{\"gridcolor\":\"white\",\"linecolor\":\"white\",\"ticks\":\"\",\"title\":{\"standoff\":15},\"zerolinecolor\":\"white\",\"automargin\":true,\"zerolinewidth\":2},\"scene\":{\"xaxis\":{\"backgroundcolor\":\"#E5ECF6\",\"gridcolor\":\"white\",\"linecolor\":\"white\",\"showbackground\":true,\"ticks\":\"\",\"zerolinecolor\":\"white\",\"gridwidth\":2},\"yaxis\":{\"backgroundcolor\":\"#E5ECF6\",\"gridcolor\":\"white\",\"linecolor\":\"white\",\"showbackground\":true,\"ticks\":\"\",\"zerolinecolor\":\"white\",\"gridwidth\":2},\"zaxis\":{\"backgroundcolor\":\"#E5ECF6\",\"gridcolor\":\"white\",\"linecolor\":\"white\",\"showbackground\":true,\"ticks\":\"\",\"zerolinecolor\":\"white\",\"gridwidth\":2}},\"shapedefaults\":{\"line\":{\"color\":\"#2a3f5f\"}},\"annotationdefaults\":{\"arrowcolor\":\"#2a3f5f\",\"arrowhead\":0,\"arrowwidth\":1},\"geo\":{\"bgcolor\":\"white\",\"landcolor\":\"#E5ECF6\",\"subunitcolor\":\"white\",\"showland\":true,\"showlakes\":true,\"lakecolor\":\"white\"},\"title\":{\"x\":0.05},\"mapbox\":{\"style\":\"light\"}}},\"xaxis\":{\"anchor\":\"y\",\"domain\":[0.0,0.3466666666666667],\"title\":{\"text\":\"Week\"}},\"yaxis\":{\"anchor\":\"x\",\"domain\":[0.0,1.0],\"title\":{\"text\":\"Mean Sales Amount\"}},\"xaxis2\":{\"anchor\":\"y2\",\"domain\":[0.41333333333333333,0.76],\"title\":{\"text\":\"Month\"}},\"yaxis2\":{\"anchor\":\"x2\",\"domain\":[0.0,1.0],\"title\":{\"text\":\"Mean Sales Amount\"}},\"xaxis3\":{\"anchor\":\"y3\",\"domain\":[0.8266666666666667,1.0],\"title\":{\"text\":\"Quarter\"}},\"yaxis3\":{\"anchor\":\"x3\",\"domain\":[0.0,1.0],\"title\":{\"text\":\"Mean Sales Amount\"}},\"annotations\":[{\"font\":{\"size\":16},\"showarrow\":false,\"text\":\"Weekly Sales\",\"x\":0.17333333333333334,\"xanchor\":\"center\",\"xref\":\"paper\",\"y\":1.0,\"yanchor\":\"bottom\",\"yref\":\"paper\"},{\"font\":{\"size\":16},\"showarrow\":false,\"text\":\"Monthly Sales\",\"x\":0.5866666666666667,\"xanchor\":\"center\",\"xref\":\"paper\",\"y\":1.0,\"yanchor\":\"bottom\",\"yref\":\"paper\"},{\"font\":{\"size\":16},\"showarrow\":false,\"text\":\"Quarterly Sales\",\"x\":0.9133333333333333,\"xanchor\":\"center\",\"xref\":\"paper\",\"y\":1.0,\"yanchor\":\"bottom\",\"yref\":\"paper\"}],\"height\":400,\"width\":1200,\"showlegend\":false},                        {\"responsive\": true}                    ).then(function(){\n",
              "                            \n",
              "var gd = document.getElementById('05491eae-97b4-4d8a-90e0-acb4e9d8f235');\n",
              "var x = new MutationObserver(function (mutations, observer) {{\n",
              "        var display = window.getComputedStyle(gd).display;\n",
              "        if (!display || display === 'none') {{\n",
              "            console.log([gd, 'removed!']);\n",
              "            Plotly.purge(gd);\n",
              "            observer.disconnect();\n",
              "        }}\n",
              "}});\n",
              "\n",
              "// Listen for the removal of the full notebook cells\n",
              "var notebookContainer = gd.closest('#notebook-container');\n",
              "if (notebookContainer) {{\n",
              "    x.observe(notebookContainer, {childList: true});\n",
              "}}\n",
              "\n",
              "// Listen for the clearing of the current output cell\n",
              "var outputEl = gd.closest('.output');\n",
              "if (outputEl) {{\n",
              "    x.observe(outputEl, {childList: true});\n",
              "}}\n",
              "\n",
              "                        })                };                            </script>        </div>\n",
              "</body>\n",
              "</html>"
            ]
          },
          "metadata": {}
        }
      ]
    },
    {
      "cell_type": "markdown",
      "source": [
        "# Step 4: Data Visualization"
      ],
      "metadata": {
        "id": "Nul25xkeU4Yg"
      }
    },
    {
      "cell_type": "code",
      "source": [
        "state_group_sales = df.groupby(['State', 'Customer_Group'])['Sales_Amount'].sum().unstack()\n",
        "state_group_sales.plot(kind='bar', stacked=True)\n",
        "plt.xlabel('State')\n",
        "plt.ylabel('Total Sales')\n",
        "plt.title('State-wise Sales Analysis for Different Customer Groups')\n",
        "plt.show()\n"
      ],
      "metadata": {
        "id": "KOYA8jfP96Kw"
      },
      "execution_count": null,
      "outputs": []
    },
    {
      "cell_type": "code",
      "source": [
        "import plotly.express as px\n",
        "\n",
        "# Create the state_group_sales DataFrame using pandas (if not already done)\n",
        "state_group_sales = df.groupby(['State', 'Customer_Group'])['Sales_Amount'].sum().unstack()\n",
        "\n",
        "\n",
        "fig = px.bar(state_group_sales, barmode='stack', title='State-wise Sales Analysis for Different Customer Groups')\n",
        "\n",
        "# Set the x-axis labels\n",
        "fig.update_xaxes(title='State')\n",
        "\n",
        "# Set the y-axis labels\n",
        "fig.update_yaxes(title='Total Sales')\n",
        "\n",
        "# Customize colors\n",
        "\n",
        "fig.show()\n"
      ],
      "metadata": {
        "id": "kvhMfNEnDIlb"
      },
      "execution_count": null,
      "outputs": []
    },
    {
      "cell_type": "code",
      "source": [
        "Group_sales_state=df.groupby(['Customer_Group','State'])['Sales_Amount'].sum().unstack()\n",
        "Group_sales_state.plot(kind='bar', stacked=True)\n",
        "plt.xlabel('Customer_Group')\n",
        "plt.ylabel('State')\n",
        "plt.title('Group-wise Sales Analysis for Different States')\n",
        "plt.show()"
      ],
      "metadata": {
        "id": "hsHaogvQ1FaQ"
      },
      "execution_count": null,
      "outputs": []
    },
    {
      "cell_type": "code",
      "source": [
        "\n",
        "# Create the Group_sales_state DataFrame using pandas (if not already done)\n",
        "Group_sales_state = df.groupby(['Customer_Group', 'State'])['Sales_Amount'].sum().unstack()\n",
        "\n",
        "# Create the Plotly bar chart\n",
        "fig = px.bar(\n",
        "    Group_sales_state,\n",
        "    title='Group-wise Sales Analysis for Different States',\n",
        "    labels={'State': 'Customer Group', 'value': 'Total Sales'},\n",
        ")\n",
        "\n",
        "# Update the layout for a stacked bar chart\n",
        "fig.update_layout(barmode='stack')\n",
        "\n",
        "# Show the chart\n",
        "fig.show()\n"
      ],
      "metadata": {
        "id": "0hIOL0gHJn9o"
      },
      "execution_count": null,
      "outputs": []
    }
  ]
}